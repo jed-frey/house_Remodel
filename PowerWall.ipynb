{
 "cells": [
  {
   "cell_type": "markdown",
   "metadata": {},
   "source": [
    "![](https://peakpowersavers.com/img/program-details/time-of-use-program-chart.jpg)"
   ]
  },
  {
   "cell_type": "code",
   "execution_count": 51,
   "metadata": {},
   "outputs": [],
   "source": [
    "meter_reads=\"\"\"Jan 25, 2018 \t55052 \tActual\n",
    "Dec 21, 2017 \t53519 \tActual\n",
    "Nov 21, 2017 \t52181 \tActual\n",
    "Oct 23, 2017 \t51139 \tActual\n",
    "Sep 24, 2017 \t50078 \tActual\n",
    "Aug 23, 2017 \t48966 \tActual\n",
    "Jul 25, 2017 \t47815 \tActual\n",
    "Jun 25, 2017 \t46498 \tActual\n",
    "May 24, 2017 \t45346 \tActual\n",
    "Apr 25, 2017 \t44518 \tActual\n",
    "Mar 26, 2017 \t43739 \tActual\n",
    "Feb 23, 2017 \t42900 \tActual\n",
    "Jan 26, 2017 \t41956 \tActual\n",
    "Dec 26, 2016 \t40928 \tActual\n",
    "Nov 27, 2016 \t39771 \tActual\n",
    "Oct 23, 2016 \t38383 \tActual\n",
    "Sep 22, 2016 \t37096 \tActual\n",
    "Aug 23, 2016 \t35724 \tActual\n",
    "Jul 25, 2016 \t34188 \tActual\n",
    "Jun 22, 2016 \t32371 \tActual\n",
    "May 24, 2016 \t31329 \tActual\n",
    "Apr 24, 2016 \t30281 \tActual\n",
    "Mar 26, 2016 \t29212 \tActual\n",
    "Feb 24, 2016 \t28154 \tActual\"\"\""
   ]
  },
  {
   "cell_type": "code",
   "execution_count": 72,
   "metadata": {},
   "outputs": [],
   "source": [
    "reads = list()\n",
    "dates = list()\n",
    "for line in meter_reads.splitlines():\n",
    "    date_, read_, _ =line.split(\"\\t\")\n",
    "    \n",
    "    date = datetime.datetime.strptime(date_, \"%b %d, %Y \")\n",
    "    read = int(read_)\n",
    "    reads.append(read)\n",
    "    \n",
    "    dates.append(date)"
   ]
  },
  {
   "cell_type": "code",
   "execution_count": 53,
   "metadata": {},
   "outputs": [],
   "source": [
    "import numpy as np"
   ]
  },
  {
   "cell_type": "code",
   "execution_count": 54,
   "metadata": {},
   "outputs": [],
   "source": [
    "reads_np = np.array(reads[:-1:])"
   ]
  },
  {
   "cell_type": "code",
   "execution_count": 55,
   "metadata": {},
   "outputs": [
    {
     "data": {
      "text/plain": [
       "array([-1533, -1338, -1042, -1061, -1112, -1151, -1317, -1152,  -828,\n",
       "        -779,  -839,  -944, -1028, -1157, -1388, -1287, -1372, -1536,\n",
       "       -1817, -1042, -1048, -1069])"
      ]
     },
     "execution_count": 55,
     "metadata": {},
     "output_type": "execute_result"
    }
   ],
   "source": [
    "np.diff(reads_np)"
   ]
  },
  {
   "cell_type": "code",
   "execution_count": 56,
   "metadata": {
    "scrolled": true
   },
   "outputs": [
    {
     "data": {
      "text/plain": [
       "array([1533, 1338, 1042, 1061, 1112, 1151, 1317, 1152,  828,  779,  839,\n",
       "        944, 1028, 1157, 1388, 1287, 1372, 1536, 1817, 1042, 1048, 1069])"
      ]
     },
     "execution_count": 56,
     "metadata": {},
     "output_type": "execute_result"
    }
   ],
   "source": [
    "np.abs(np.diff(reads_np))"
   ]
  },
  {
   "cell_type": "code",
   "execution_count": 59,
   "metadata": {},
   "outputs": [
    {
     "data": {
      "text/plain": [
       "array([1533, 1338, 1042, 1061, 1112, 1151, 1317, 1152,  828,  779,  839,\n",
       "        944, 1028, 1157, 1388, 1287, 1372, 1536, 1817, 1042, 1048, 1069])"
      ]
     },
     "execution_count": 59,
     "metadata": {},
     "output_type": "execute_result"
    }
   ],
   "source": [
    "usages = np.abs(np.diff(reads_np))\n",
    "\n",
    "usages"
   ]
  },
  {
   "cell_type": "code",
   "execution_count": 60,
   "metadata": {},
   "outputs": [],
   "source": [
    "for usage in usages:\n",
    "    break"
   ]
  },
  {
   "cell_type": "code",
   "execution_count": 61,
   "metadata": {},
   "outputs": [
    {
     "data": {
      "text/plain": [
       "1533"
      ]
     },
     "execution_count": 61,
     "metadata": {},
     "output_type": "execute_result"
    }
   ],
   "source": [
    "usage"
   ]
  },
  {
   "cell_type": "code",
   "execution_count": 62,
   "metadata": {},
   "outputs": [
    {
     "data": {
      "text/plain": [
       "933"
      ]
     },
     "execution_count": 62,
     "metadata": {},
     "output_type": "execute_result"
    }
   ],
   "source": [
    "usage-600"
   ]
  },
  {
   "cell_type": "code",
   "execution_count": 63,
   "metadata": {},
   "outputs": [
    {
     "data": {
      "text/plain": [
       "5634.0"
      ]
     },
     "execution_count": 63,
     "metadata": {},
     "output_type": "execute_result"
    }
   ],
   "source": [
    "9.39*600"
   ]
  },
  {
   "cell_type": "code",
   "execution_count": 64,
   "metadata": {},
   "outputs": [
    {
     "data": {
      "text/plain": [
       "11830.44"
      ]
     },
     "execution_count": 64,
     "metadata": {},
     "output_type": "execute_result"
    }
   ],
   "source": [
    "12.68*933"
   ]
  },
  {
   "cell_type": "code",
   "execution_count": 66,
   "metadata": {},
   "outputs": [
    {
     "data": {
      "text/plain": [
       "174.64440000000002"
      ]
     },
     "execution_count": 66,
     "metadata": {},
     "output_type": "execute_result"
    }
   ],
   "source": [
    "(9.39*600+12.68*(usage-600))/100"
   ]
  },
  {
   "cell_type": "code",
   "execution_count": 67,
   "metadata": {},
   "outputs": [
    {
     "data": {
      "text/plain": [
       "126.9324"
      ]
     },
     "execution_count": 67,
     "metadata": {},
     "output_type": "execute_result"
    }
   ],
   "source": [
    "8.28*(usage)/100"
   ]
  },
  {
   "cell_type": "code",
   "execution_count": 68,
   "metadata": {},
   "outputs": [
    {
     "data": {
      "text/plain": [
       "60.56666666666667"
      ]
     },
     "execution_count": 68,
     "metadata": {},
     "output_type": "execute_result"
    }
   ],
   "source": [
    "max(usages)/30"
   ]
  },
  {
   "cell_type": "code",
   "execution_count": 73,
   "metadata": {},
   "outputs": [],
   "source": [
    "for idx, usage in enumerate(usages):\n",
    "    break"
   ]
  },
  {
   "cell_type": "code",
   "execution_count": 74,
   "metadata": {},
   "outputs": [
    {
     "data": {
      "text/plain": [
       "datetime.datetime(2018, 1, 25, 0, 0)"
      ]
     },
     "execution_count": 74,
     "metadata": {},
     "output_type": "execute_result"
    }
   ],
   "source": [
    "dates[idx]"
   ]
  },
  {
   "cell_type": "code",
   "execution_count": null,
   "metadata": {},
   "outputs": [],
   "source": []
  }
 ],
 "metadata": {
  "kernelspec": {
   "display_name": "Python 3",
   "language": "python",
   "name": "python3"
  },
  "language_info": {
   "codemirror_mode": {
    "name": "ipython",
    "version": 3
   },
   "file_extension": ".py",
   "mimetype": "text/x-python",
   "name": "python",
   "nbconvert_exporter": "python",
   "pygments_lexer": "ipython3",
   "version": "3.5.2"
  }
 },
 "nbformat": 4,
 "nbformat_minor": 2
}
